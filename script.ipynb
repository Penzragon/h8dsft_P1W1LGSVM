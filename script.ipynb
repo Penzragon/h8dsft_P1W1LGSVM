{
 "cells": [
  {
   "cell_type": "markdown",
   "metadata": {},
   "source": [
    "# Hacktiv8 Phase 1: Graded Challenge 2\n",
    "\n",
    "---\n",
    "\n",
    "Graded Challenge ini dibuat guna mengevaluasi pembelajaran pada Hacktiv8 Data Science Fulltime Program khususnya pada konsep Classification terutama Logistic Regression dan SVM."
   ]
  },
  {
   "cell_type": "markdown",
   "metadata": {},
   "source": [
    "## Introduction"
   ]
  },
  {
   "cell_type": "markdown",
   "metadata": {},
   "source": [
    "By [Rifky Aliffa](https://github.com/Penzragon)\n",
    "\n",
    "![weather](https://images.ctfassets.net/hrltx12pl8hq/6TIZLa1AKeBel0yVO7ReIn/1fc0e2fd9fcc6d66b3cc733aa2547e11/weather-images.jpg?fit=fill&w=800&h=300)"
   ]
  },
  {
   "cell_type": "markdown",
   "metadata": {},
   "source": [
    "### Dataset"
   ]
  },
  {
   "cell_type": "markdown",
   "metadata": {},
   "source": [
    "Dataset yang digunakan pada project ini adalah dataset yang berisi tentang cuaca harian dari berbagai stasiun cuaca di Australia selama 10 tahun. Dataset ini berisi 145460 baris dengan 23 kolom yang diantaranya adalah date, location, MinTemp, MaxTemp, dan masih banyak lagi. Dataset dapat dilihat di [Kaggle](https://www.kaggle.com/jsphyg/weather-dataset-rattle-package)."
   ]
  },
  {
   "cell_type": "markdown",
   "metadata": {},
   "source": [
    "### Objectives"
   ]
  },
  {
   "cell_type": "markdown",
   "metadata": {},
   "source": [
    "**Graded Challenge 2** ini dibuat guna mengevaluasi konsep Logistic Regression dan SVM sebagai berikut:\n",
    "\n",
    "- Mampu memahami konsep Classification dengan Logistic Regression dan SVM.\n",
    "- Mampu mempersiapkan data untuk digunakan dalam model Logistic Regression dan SVM.\n",
    "- Mampu mengimplementasikan Logistic Regression dan SVM untuk membuat prediksi."
   ]
  },
  {
   "cell_type": "markdown",
   "metadata": {},
   "source": [
    "## Import Libraries"
   ]
  },
  {
   "cell_type": "markdown",
   "metadata": {},
   "source": [
    "Pada project kali ini library yang akan digunakan adalah **Pandas**, **Numpy**, **Matplotlib**, **Seaborn**, dan **Scikit-Learn**."
   ]
  },
  {
   "cell_type": "code",
   "execution_count": 1,
   "metadata": {},
   "outputs": [],
   "source": [
    "import pandas as pd\n",
    "import numpy as np\n",
    "import matplotlib.pyplot as plt\n",
    "import seaborn as sns\n",
    "from sklearn.linear_model import LogisticRegression\n",
    "from sklearn.svm import SVC\n",
    "from sklearn.model_selection import train_test_split\n",
    "from sklearn.preprocessing import StandardScaler\n",
    "from sklearn.preprocessing import OneHotEncoder\n",
    "from sklearn.metrics import confusion_matrix\n",
    "from sklearn.metrics import classification_report"
   ]
  },
  {
   "cell_type": "markdown",
   "metadata": {},
   "source": [
    "Melakukan setting agar pandas menampilkan seluruh kolom pada dataframe."
   ]
  },
  {
   "cell_type": "code",
   "execution_count": 2,
   "metadata": {},
   "outputs": [],
   "source": [
    "pd.set_option('display.max_columns', None)"
   ]
  },
  {
   "cell_type": "markdown",
   "metadata": {},
   "source": [
    "## Data Loading"
   ]
  },
  {
   "cell_type": "markdown",
   "metadata": {},
   "source": [
    "membuat dataframe `weather` dari file `weatherAUS.csv`."
   ]
  },
  {
   "cell_type": "code",
   "execution_count": 3,
   "metadata": {},
   "outputs": [],
   "source": [
    "weather = pd.read_csv('weatherAUS.csv')"
   ]
  },
  {
   "cell_type": "code",
   "execution_count": 4,
   "metadata": {},
   "outputs": [
    {
     "data": {
      "text/html": [
       "<div>\n",
       "<style scoped>\n",
       "    .dataframe tbody tr th:only-of-type {\n",
       "        vertical-align: middle;\n",
       "    }\n",
       "\n",
       "    .dataframe tbody tr th {\n",
       "        vertical-align: top;\n",
       "    }\n",
       "\n",
       "    .dataframe thead th {\n",
       "        text-align: right;\n",
       "    }\n",
       "</style>\n",
       "<table border=\"1\" class=\"dataframe\">\n",
       "  <thead>\n",
       "    <tr style=\"text-align: right;\">\n",
       "      <th></th>\n",
       "      <th>Date</th>\n",
       "      <th>Location</th>\n",
       "      <th>MinTemp</th>\n",
       "      <th>MaxTemp</th>\n",
       "      <th>Rainfall</th>\n",
       "      <th>Evaporation</th>\n",
       "      <th>Sunshine</th>\n",
       "      <th>WindGustDir</th>\n",
       "      <th>WindGustSpeed</th>\n",
       "      <th>WindDir9am</th>\n",
       "      <th>WindDir3pm</th>\n",
       "      <th>WindSpeed9am</th>\n",
       "      <th>WindSpeed3pm</th>\n",
       "      <th>Humidity9am</th>\n",
       "      <th>Humidity3pm</th>\n",
       "      <th>Pressure9am</th>\n",
       "      <th>Pressure3pm</th>\n",
       "      <th>Cloud9am</th>\n",
       "      <th>Cloud3pm</th>\n",
       "      <th>Temp9am</th>\n",
       "      <th>Temp3pm</th>\n",
       "      <th>RainToday</th>\n",
       "      <th>RainTomorrow</th>\n",
       "    </tr>\n",
       "  </thead>\n",
       "  <tbody>\n",
       "    <tr>\n",
       "      <th>0</th>\n",
       "      <td>2008-12-01</td>\n",
       "      <td>Albury</td>\n",
       "      <td>13.4</td>\n",
       "      <td>22.9</td>\n",
       "      <td>0.6</td>\n",
       "      <td>NaN</td>\n",
       "      <td>NaN</td>\n",
       "      <td>W</td>\n",
       "      <td>44.0</td>\n",
       "      <td>W</td>\n",
       "      <td>WNW</td>\n",
       "      <td>20.0</td>\n",
       "      <td>24.0</td>\n",
       "      <td>71.0</td>\n",
       "      <td>22.0</td>\n",
       "      <td>1007.7</td>\n",
       "      <td>1007.1</td>\n",
       "      <td>8.0</td>\n",
       "      <td>NaN</td>\n",
       "      <td>16.9</td>\n",
       "      <td>21.8</td>\n",
       "      <td>No</td>\n",
       "      <td>No</td>\n",
       "    </tr>\n",
       "    <tr>\n",
       "      <th>1</th>\n",
       "      <td>2008-12-02</td>\n",
       "      <td>Albury</td>\n",
       "      <td>7.4</td>\n",
       "      <td>25.1</td>\n",
       "      <td>0.0</td>\n",
       "      <td>NaN</td>\n",
       "      <td>NaN</td>\n",
       "      <td>WNW</td>\n",
       "      <td>44.0</td>\n",
       "      <td>NNW</td>\n",
       "      <td>WSW</td>\n",
       "      <td>4.0</td>\n",
       "      <td>22.0</td>\n",
       "      <td>44.0</td>\n",
       "      <td>25.0</td>\n",
       "      <td>1010.6</td>\n",
       "      <td>1007.8</td>\n",
       "      <td>NaN</td>\n",
       "      <td>NaN</td>\n",
       "      <td>17.2</td>\n",
       "      <td>24.3</td>\n",
       "      <td>No</td>\n",
       "      <td>No</td>\n",
       "    </tr>\n",
       "    <tr>\n",
       "      <th>2</th>\n",
       "      <td>2008-12-03</td>\n",
       "      <td>Albury</td>\n",
       "      <td>12.9</td>\n",
       "      <td>25.7</td>\n",
       "      <td>0.0</td>\n",
       "      <td>NaN</td>\n",
       "      <td>NaN</td>\n",
       "      <td>WSW</td>\n",
       "      <td>46.0</td>\n",
       "      <td>W</td>\n",
       "      <td>WSW</td>\n",
       "      <td>19.0</td>\n",
       "      <td>26.0</td>\n",
       "      <td>38.0</td>\n",
       "      <td>30.0</td>\n",
       "      <td>1007.6</td>\n",
       "      <td>1008.7</td>\n",
       "      <td>NaN</td>\n",
       "      <td>2.0</td>\n",
       "      <td>21.0</td>\n",
       "      <td>23.2</td>\n",
       "      <td>No</td>\n",
       "      <td>No</td>\n",
       "    </tr>\n",
       "    <tr>\n",
       "      <th>3</th>\n",
       "      <td>2008-12-04</td>\n",
       "      <td>Albury</td>\n",
       "      <td>9.2</td>\n",
       "      <td>28.0</td>\n",
       "      <td>0.0</td>\n",
       "      <td>NaN</td>\n",
       "      <td>NaN</td>\n",
       "      <td>NE</td>\n",
       "      <td>24.0</td>\n",
       "      <td>SE</td>\n",
       "      <td>E</td>\n",
       "      <td>11.0</td>\n",
       "      <td>9.0</td>\n",
       "      <td>45.0</td>\n",
       "      <td>16.0</td>\n",
       "      <td>1017.6</td>\n",
       "      <td>1012.8</td>\n",
       "      <td>NaN</td>\n",
       "      <td>NaN</td>\n",
       "      <td>18.1</td>\n",
       "      <td>26.5</td>\n",
       "      <td>No</td>\n",
       "      <td>No</td>\n",
       "    </tr>\n",
       "    <tr>\n",
       "      <th>4</th>\n",
       "      <td>2008-12-05</td>\n",
       "      <td>Albury</td>\n",
       "      <td>17.5</td>\n",
       "      <td>32.3</td>\n",
       "      <td>1.0</td>\n",
       "      <td>NaN</td>\n",
       "      <td>NaN</td>\n",
       "      <td>W</td>\n",
       "      <td>41.0</td>\n",
       "      <td>ENE</td>\n",
       "      <td>NW</td>\n",
       "      <td>7.0</td>\n",
       "      <td>20.0</td>\n",
       "      <td>82.0</td>\n",
       "      <td>33.0</td>\n",
       "      <td>1010.8</td>\n",
       "      <td>1006.0</td>\n",
       "      <td>7.0</td>\n",
       "      <td>8.0</td>\n",
       "      <td>17.8</td>\n",
       "      <td>29.7</td>\n",
       "      <td>No</td>\n",
       "      <td>No</td>\n",
       "    </tr>\n",
       "  </tbody>\n",
       "</table>\n",
       "</div>"
      ],
      "text/plain": [
       "         Date Location  MinTemp  MaxTemp  Rainfall  Evaporation  Sunshine  \\\n",
       "0  2008-12-01   Albury     13.4     22.9       0.6          NaN       NaN   \n",
       "1  2008-12-02   Albury      7.4     25.1       0.0          NaN       NaN   \n",
       "2  2008-12-03   Albury     12.9     25.7       0.0          NaN       NaN   \n",
       "3  2008-12-04   Albury      9.2     28.0       0.0          NaN       NaN   \n",
       "4  2008-12-05   Albury     17.5     32.3       1.0          NaN       NaN   \n",
       "\n",
       "  WindGustDir  WindGustSpeed WindDir9am WindDir3pm  WindSpeed9am  \\\n",
       "0           W           44.0          W        WNW          20.0   \n",
       "1         WNW           44.0        NNW        WSW           4.0   \n",
       "2         WSW           46.0          W        WSW          19.0   \n",
       "3          NE           24.0         SE          E          11.0   \n",
       "4           W           41.0        ENE         NW           7.0   \n",
       "\n",
       "   WindSpeed3pm  Humidity9am  Humidity3pm  Pressure9am  Pressure3pm  Cloud9am  \\\n",
       "0          24.0         71.0         22.0       1007.7       1007.1       8.0   \n",
       "1          22.0         44.0         25.0       1010.6       1007.8       NaN   \n",
       "2          26.0         38.0         30.0       1007.6       1008.7       NaN   \n",
       "3           9.0         45.0         16.0       1017.6       1012.8       NaN   \n",
       "4          20.0         82.0         33.0       1010.8       1006.0       7.0   \n",
       "\n",
       "   Cloud3pm  Temp9am  Temp3pm RainToday RainTomorrow  \n",
       "0       NaN     16.9     21.8        No           No  \n",
       "1       NaN     17.2     24.3        No           No  \n",
       "2       2.0     21.0     23.2        No           No  \n",
       "3       NaN     18.1     26.5        No           No  \n",
       "4       8.0     17.8     29.7        No           No  "
      ]
     },
     "execution_count": 4,
     "metadata": {},
     "output_type": "execute_result"
    }
   ],
   "source": [
    "weather.head()"
   ]
  },
  {
   "cell_type": "markdown",
   "metadata": {},
   "source": [
    "### Data Characteristics"
   ]
  },
  {
   "cell_type": "code",
   "execution_count": 5,
   "metadata": {},
   "outputs": [
    {
     "data": {
      "text/plain": [
       "(145460, 23)"
      ]
     },
     "execution_count": 5,
     "metadata": {},
     "output_type": "execute_result"
    }
   ],
   "source": [
    "weather.shape"
   ]
  },
  {
   "cell_type": "markdown",
   "metadata": {},
   "source": [
    "Dataframe ini terbentuk dari:\n",
    "- **145460** baris\n",
    "- **23** kolom"
   ]
  },
  {
   "cell_type": "code",
   "execution_count": 6,
   "metadata": {},
   "outputs": [
    {
     "name": "stdout",
     "output_type": "stream",
     "text": [
      "<class 'pandas.core.frame.DataFrame'>\n",
      "RangeIndex: 145460 entries, 0 to 145459\n",
      "Data columns (total 23 columns):\n",
      " #   Column         Non-Null Count   Dtype  \n",
      "---  ------         --------------   -----  \n",
      " 0   Date           145460 non-null  object \n",
      " 1   Location       145460 non-null  object \n",
      " 2   MinTemp        143975 non-null  float64\n",
      " 3   MaxTemp        144199 non-null  float64\n",
      " 4   Rainfall       142199 non-null  float64\n",
      " 5   Evaporation    82670 non-null   float64\n",
      " 6   Sunshine       75625 non-null   float64\n",
      " 7   WindGustDir    135134 non-null  object \n",
      " 8   WindGustSpeed  135197 non-null  float64\n",
      " 9   WindDir9am     134894 non-null  object \n",
      " 10  WindDir3pm     141232 non-null  object \n",
      " 11  WindSpeed9am   143693 non-null  float64\n",
      " 12  WindSpeed3pm   142398 non-null  float64\n",
      " 13  Humidity9am    142806 non-null  float64\n",
      " 14  Humidity3pm    140953 non-null  float64\n",
      " 15  Pressure9am    130395 non-null  float64\n",
      " 16  Pressure3pm    130432 non-null  float64\n",
      " 17  Cloud9am       89572 non-null   float64\n",
      " 18  Cloud3pm       86102 non-null   float64\n",
      " 19  Temp9am        143693 non-null  float64\n",
      " 20  Temp3pm        141851 non-null  float64\n",
      " 21  RainToday      142199 non-null  object \n",
      " 22  RainTomorrow   142193 non-null  object \n",
      "dtypes: float64(16), object(7)\n",
      "memory usage: 25.5+ MB\n"
     ]
    }
   ],
   "source": [
    "weather.info()"
   ]
  },
  {
   "cell_type": "markdown",
   "metadata": {},
   "source": [
    "Dari basic info ini dapat diketahui dataframe terbentuk dari:\n",
    "- 16 kolom bertipe **float**\n",
    "- 7 kolom bertipe **object**\n",
    "\n",
    "Dapat diketahui juga terdapat ada missing value pada dataframe.\n",
    "\n",
    "Kolom `Date` masih bertipe data **object** yang nantinya akan diubah menjadi **datetime**."
   ]
  },
  {
   "cell_type": "code",
   "execution_count": 7,
   "metadata": {},
   "outputs": [
    {
     "data": {
      "text/html": [
       "<div>\n",
       "<style scoped>\n",
       "    .dataframe tbody tr th:only-of-type {\n",
       "        vertical-align: middle;\n",
       "    }\n",
       "\n",
       "    .dataframe tbody tr th {\n",
       "        vertical-align: top;\n",
       "    }\n",
       "\n",
       "    .dataframe thead th {\n",
       "        text-align: right;\n",
       "    }\n",
       "</style>\n",
       "<table border=\"1\" class=\"dataframe\">\n",
       "  <thead>\n",
       "    <tr style=\"text-align: right;\">\n",
       "      <th></th>\n",
       "      <th>count</th>\n",
       "      <th>mean</th>\n",
       "      <th>std</th>\n",
       "      <th>min</th>\n",
       "      <th>25%</th>\n",
       "      <th>50%</th>\n",
       "      <th>75%</th>\n",
       "      <th>max</th>\n",
       "    </tr>\n",
       "  </thead>\n",
       "  <tbody>\n",
       "    <tr>\n",
       "      <th>MinTemp</th>\n",
       "      <td>143975.0</td>\n",
       "      <td>12.194034</td>\n",
       "      <td>6.398495</td>\n",
       "      <td>-8.5</td>\n",
       "      <td>7.6</td>\n",
       "      <td>12.0</td>\n",
       "      <td>16.9</td>\n",
       "      <td>33.9</td>\n",
       "    </tr>\n",
       "    <tr>\n",
       "      <th>MaxTemp</th>\n",
       "      <td>144199.0</td>\n",
       "      <td>23.221348</td>\n",
       "      <td>7.119049</td>\n",
       "      <td>-4.8</td>\n",
       "      <td>17.9</td>\n",
       "      <td>22.6</td>\n",
       "      <td>28.2</td>\n",
       "      <td>48.1</td>\n",
       "    </tr>\n",
       "    <tr>\n",
       "      <th>Rainfall</th>\n",
       "      <td>142199.0</td>\n",
       "      <td>2.360918</td>\n",
       "      <td>8.478060</td>\n",
       "      <td>0.0</td>\n",
       "      <td>0.0</td>\n",
       "      <td>0.0</td>\n",
       "      <td>0.8</td>\n",
       "      <td>371.0</td>\n",
       "    </tr>\n",
       "    <tr>\n",
       "      <th>Evaporation</th>\n",
       "      <td>82670.0</td>\n",
       "      <td>5.468232</td>\n",
       "      <td>4.193704</td>\n",
       "      <td>0.0</td>\n",
       "      <td>2.6</td>\n",
       "      <td>4.8</td>\n",
       "      <td>7.4</td>\n",
       "      <td>145.0</td>\n",
       "    </tr>\n",
       "    <tr>\n",
       "      <th>Sunshine</th>\n",
       "      <td>75625.0</td>\n",
       "      <td>7.611178</td>\n",
       "      <td>3.785483</td>\n",
       "      <td>0.0</td>\n",
       "      <td>4.8</td>\n",
       "      <td>8.4</td>\n",
       "      <td>10.6</td>\n",
       "      <td>14.5</td>\n",
       "    </tr>\n",
       "    <tr>\n",
       "      <th>WindGustSpeed</th>\n",
       "      <td>135197.0</td>\n",
       "      <td>40.035230</td>\n",
       "      <td>13.607062</td>\n",
       "      <td>6.0</td>\n",
       "      <td>31.0</td>\n",
       "      <td>39.0</td>\n",
       "      <td>48.0</td>\n",
       "      <td>135.0</td>\n",
       "    </tr>\n",
       "    <tr>\n",
       "      <th>WindSpeed9am</th>\n",
       "      <td>143693.0</td>\n",
       "      <td>14.043426</td>\n",
       "      <td>8.915375</td>\n",
       "      <td>0.0</td>\n",
       "      <td>7.0</td>\n",
       "      <td>13.0</td>\n",
       "      <td>19.0</td>\n",
       "      <td>130.0</td>\n",
       "    </tr>\n",
       "    <tr>\n",
       "      <th>WindSpeed3pm</th>\n",
       "      <td>142398.0</td>\n",
       "      <td>18.662657</td>\n",
       "      <td>8.809800</td>\n",
       "      <td>0.0</td>\n",
       "      <td>13.0</td>\n",
       "      <td>19.0</td>\n",
       "      <td>24.0</td>\n",
       "      <td>87.0</td>\n",
       "    </tr>\n",
       "    <tr>\n",
       "      <th>Humidity9am</th>\n",
       "      <td>142806.0</td>\n",
       "      <td>68.880831</td>\n",
       "      <td>19.029164</td>\n",
       "      <td>0.0</td>\n",
       "      <td>57.0</td>\n",
       "      <td>70.0</td>\n",
       "      <td>83.0</td>\n",
       "      <td>100.0</td>\n",
       "    </tr>\n",
       "    <tr>\n",
       "      <th>Humidity3pm</th>\n",
       "      <td>140953.0</td>\n",
       "      <td>51.539116</td>\n",
       "      <td>20.795902</td>\n",
       "      <td>0.0</td>\n",
       "      <td>37.0</td>\n",
       "      <td>52.0</td>\n",
       "      <td>66.0</td>\n",
       "      <td>100.0</td>\n",
       "    </tr>\n",
       "    <tr>\n",
       "      <th>Pressure9am</th>\n",
       "      <td>130395.0</td>\n",
       "      <td>1017.649940</td>\n",
       "      <td>7.106530</td>\n",
       "      <td>980.5</td>\n",
       "      <td>1012.9</td>\n",
       "      <td>1017.6</td>\n",
       "      <td>1022.4</td>\n",
       "      <td>1041.0</td>\n",
       "    </tr>\n",
       "    <tr>\n",
       "      <th>Pressure3pm</th>\n",
       "      <td>130432.0</td>\n",
       "      <td>1015.255889</td>\n",
       "      <td>7.037414</td>\n",
       "      <td>977.1</td>\n",
       "      <td>1010.4</td>\n",
       "      <td>1015.2</td>\n",
       "      <td>1020.0</td>\n",
       "      <td>1039.6</td>\n",
       "    </tr>\n",
       "    <tr>\n",
       "      <th>Cloud9am</th>\n",
       "      <td>89572.0</td>\n",
       "      <td>4.447461</td>\n",
       "      <td>2.887159</td>\n",
       "      <td>0.0</td>\n",
       "      <td>1.0</td>\n",
       "      <td>5.0</td>\n",
       "      <td>7.0</td>\n",
       "      <td>9.0</td>\n",
       "    </tr>\n",
       "    <tr>\n",
       "      <th>Cloud3pm</th>\n",
       "      <td>86102.0</td>\n",
       "      <td>4.509930</td>\n",
       "      <td>2.720357</td>\n",
       "      <td>0.0</td>\n",
       "      <td>2.0</td>\n",
       "      <td>5.0</td>\n",
       "      <td>7.0</td>\n",
       "      <td>9.0</td>\n",
       "    </tr>\n",
       "    <tr>\n",
       "      <th>Temp9am</th>\n",
       "      <td>143693.0</td>\n",
       "      <td>16.990631</td>\n",
       "      <td>6.488753</td>\n",
       "      <td>-7.2</td>\n",
       "      <td>12.3</td>\n",
       "      <td>16.7</td>\n",
       "      <td>21.6</td>\n",
       "      <td>40.2</td>\n",
       "    </tr>\n",
       "    <tr>\n",
       "      <th>Temp3pm</th>\n",
       "      <td>141851.0</td>\n",
       "      <td>21.683390</td>\n",
       "      <td>6.936650</td>\n",
       "      <td>-5.4</td>\n",
       "      <td>16.6</td>\n",
       "      <td>21.1</td>\n",
       "      <td>26.4</td>\n",
       "      <td>46.7</td>\n",
       "    </tr>\n",
       "  </tbody>\n",
       "</table>\n",
       "</div>"
      ],
      "text/plain": [
       "                  count         mean        std    min     25%     50%  \\\n",
       "MinTemp        143975.0    12.194034   6.398495   -8.5     7.6    12.0   \n",
       "MaxTemp        144199.0    23.221348   7.119049   -4.8    17.9    22.6   \n",
       "Rainfall       142199.0     2.360918   8.478060    0.0     0.0     0.0   \n",
       "Evaporation     82670.0     5.468232   4.193704    0.0     2.6     4.8   \n",
       "Sunshine        75625.0     7.611178   3.785483    0.0     4.8     8.4   \n",
       "WindGustSpeed  135197.0    40.035230  13.607062    6.0    31.0    39.0   \n",
       "WindSpeed9am   143693.0    14.043426   8.915375    0.0     7.0    13.0   \n",
       "WindSpeed3pm   142398.0    18.662657   8.809800    0.0    13.0    19.0   \n",
       "Humidity9am    142806.0    68.880831  19.029164    0.0    57.0    70.0   \n",
       "Humidity3pm    140953.0    51.539116  20.795902    0.0    37.0    52.0   \n",
       "Pressure9am    130395.0  1017.649940   7.106530  980.5  1012.9  1017.6   \n",
       "Pressure3pm    130432.0  1015.255889   7.037414  977.1  1010.4  1015.2   \n",
       "Cloud9am        89572.0     4.447461   2.887159    0.0     1.0     5.0   \n",
       "Cloud3pm        86102.0     4.509930   2.720357    0.0     2.0     5.0   \n",
       "Temp9am        143693.0    16.990631   6.488753   -7.2    12.3    16.7   \n",
       "Temp3pm        141851.0    21.683390   6.936650   -5.4    16.6    21.1   \n",
       "\n",
       "                  75%     max  \n",
       "MinTemp          16.9    33.9  \n",
       "MaxTemp          28.2    48.1  \n",
       "Rainfall          0.8   371.0  \n",
       "Evaporation       7.4   145.0  \n",
       "Sunshine         10.6    14.5  \n",
       "WindGustSpeed    48.0   135.0  \n",
       "WindSpeed9am     19.0   130.0  \n",
       "WindSpeed3pm     24.0    87.0  \n",
       "Humidity9am      83.0   100.0  \n",
       "Humidity3pm      66.0   100.0  \n",
       "Pressure9am    1022.4  1041.0  \n",
       "Pressure3pm    1020.0  1039.6  \n",
       "Cloud9am          7.0     9.0  \n",
       "Cloud3pm          7.0     9.0  \n",
       "Temp9am          21.6    40.2  \n",
       "Temp3pm          26.4    46.7  "
      ]
     },
     "execution_count": 7,
     "metadata": {},
     "output_type": "execute_result"
    }
   ],
   "source": [
    "weather.describe().T"
   ]
  },
  {
   "cell_type": "markdown",
   "metadata": {},
   "source": [
    "Jika dilihat dari mean dan mediannya kebanyakan dari kolom numerik di dataframe memiliki distribusi yang normal contohnya pada kolom `MinTemp`, `MaxTemp`, `Temp9am`, dan `Temp3pm`. Kolom-kolom tersebuat memiliki mean dan median yang berdekatan."
   ]
  },
  {
   "cell_type": "markdown",
   "metadata": {},
   "source": [
    "## Data Cleaning"
   ]
  },
  {
   "cell_type": "markdown",
   "metadata": {},
   "source": [
    "### Missing Value"
   ]
  },
  {
   "cell_type": "markdown",
   "metadata": {},
   "source": [
    "Pada bagian ini akan dilakukan pengecekan untuk melihat apakah terdapat missing value pada dataframe."
   ]
  },
  {
   "cell_type": "code",
   "execution_count": 8,
   "metadata": {},
   "outputs": [
    {
     "data": {
      "text/plain": [
       "Date                 0\n",
       "Location             0\n",
       "MinTemp           1485\n",
       "MaxTemp           1261\n",
       "Rainfall          3261\n",
       "Evaporation      62790\n",
       "Sunshine         69835\n",
       "WindGustDir      10326\n",
       "WindGustSpeed    10263\n",
       "WindDir9am       10566\n",
       "WindDir3pm        4228\n",
       "WindSpeed9am      1767\n",
       "WindSpeed3pm      3062\n",
       "Humidity9am       2654\n",
       "Humidity3pm       4507\n",
       "Pressure9am      15065\n",
       "Pressure3pm      15028\n",
       "Cloud9am         55888\n",
       "Cloud3pm         59358\n",
       "Temp9am           1767\n",
       "Temp3pm           3609\n",
       "RainToday         3261\n",
       "RainTomorrow      3267\n",
       "dtype: int64"
      ]
     },
     "execution_count": 8,
     "metadata": {},
     "output_type": "execute_result"
    }
   ],
   "source": [
    "weather.isna().sum()"
   ]
  },
  {
   "cell_type": "code",
   "execution_count": 9,
   "metadata": {},
   "outputs": [
    {
     "data": {
      "text/plain": [
       "Date             0.000000\n",
       "Location         0.000000\n",
       "MinTemp          0.010209\n",
       "MaxTemp          0.008669\n",
       "Rainfall         0.022419\n",
       "Evaporation      0.431665\n",
       "Sunshine         0.480098\n",
       "WindGustDir      0.070989\n",
       "WindGustSpeed    0.070555\n",
       "WindDir9am       0.072639\n",
       "WindDir3pm       0.029066\n",
       "WindSpeed9am     0.012148\n",
       "WindSpeed3pm     0.021050\n",
       "Humidity9am      0.018246\n",
       "Humidity3pm      0.030984\n",
       "Pressure9am      0.103568\n",
       "Pressure3pm      0.103314\n",
       "Cloud9am         0.384216\n",
       "Cloud3pm         0.408071\n",
       "Temp9am          0.012148\n",
       "Temp3pm          0.024811\n",
       "RainToday        0.022419\n",
       "RainTomorrow     0.022460\n",
       "dtype: float64"
      ]
     },
     "execution_count": 9,
     "metadata": {},
     "output_type": "execute_result"
    }
   ],
   "source": [
    "weather.isna().mean()"
   ]
  },
  {
   "cell_type": "markdown",
   "metadata": {},
   "source": [
    "Setelah dilakukan pengecekan, hampir pada **setiap kolom terdapat missing value** dengan kolom `Sunshine` yang memiliki missing value terbanyak yaitu sekitar **48%**. Akan dilakukan missing value handling pada bagian **data preprocessing**, setelah setiap kolomnya dieksplorasi pada bagian **EDA**."
   ]
  },
  {
   "cell_type": "markdown",
   "metadata": {},
   "source": [
    "### Duplicated Data"
   ]
  },
  {
   "cell_type": "markdown",
   "metadata": {},
   "source": [
    "Pada bagian ini akan dilakukan pengecekan untuk mengetahui apakah terdapat data duplikat pada dataset."
   ]
  },
  {
   "cell_type": "code",
   "execution_count": 10,
   "metadata": {},
   "outputs": [
    {
     "data": {
      "text/plain": [
       "0"
      ]
     },
     "execution_count": 10,
     "metadata": {},
     "output_type": "execute_result"
    }
   ],
   "source": [
    "weather.duplicated().sum()"
   ]
  },
  {
   "cell_type": "markdown",
   "metadata": {},
   "source": [
    "Setelah dilakukan pengecekan, **tidak terdapat duplicated data** pada dataset."
   ]
  },
  {
   "cell_type": "markdown",
   "metadata": {},
   "source": [
    "### Convert Data Type"
   ]
  },
  {
   "cell_type": "markdown",
   "metadata": {},
   "source": [
    "Pada bagian ini akan mengubah tipe data pada kolom `Date` menjadi **datetime**."
   ]
  },
  {
   "cell_type": "code",
   "execution_count": 11,
   "metadata": {},
   "outputs": [],
   "source": [
    "weather['Date'] = pd.to_datetime(weather.Date)"
   ]
  },
  {
   "cell_type": "code",
   "execution_count": 12,
   "metadata": {},
   "outputs": [
    {
     "name": "stdout",
     "output_type": "stream",
     "text": [
      "<class 'pandas.core.frame.DataFrame'>\n",
      "RangeIndex: 145460 entries, 0 to 145459\n",
      "Data columns (total 23 columns):\n",
      " #   Column         Non-Null Count   Dtype         \n",
      "---  ------         --------------   -----         \n",
      " 0   Date           145460 non-null  datetime64[ns]\n",
      " 1   Location       145460 non-null  object        \n",
      " 2   MinTemp        143975 non-null  float64       \n",
      " 3   MaxTemp        144199 non-null  float64       \n",
      " 4   Rainfall       142199 non-null  float64       \n",
      " 5   Evaporation    82670 non-null   float64       \n",
      " 6   Sunshine       75625 non-null   float64       \n",
      " 7   WindGustDir    135134 non-null  object        \n",
      " 8   WindGustSpeed  135197 non-null  float64       \n",
      " 9   WindDir9am     134894 non-null  object        \n",
      " 10  WindDir3pm     141232 non-null  object        \n",
      " 11  WindSpeed9am   143693 non-null  float64       \n",
      " 12  WindSpeed3pm   142398 non-null  float64       \n",
      " 13  Humidity9am    142806 non-null  float64       \n",
      " 14  Humidity3pm    140953 non-null  float64       \n",
      " 15  Pressure9am    130395 non-null  float64       \n",
      " 16  Pressure3pm    130432 non-null  float64       \n",
      " 17  Cloud9am       89572 non-null   float64       \n",
      " 18  Cloud3pm       86102 non-null   float64       \n",
      " 19  Temp9am        143693 non-null  float64       \n",
      " 20  Temp3pm        141851 non-null  float64       \n",
      " 21  RainToday      142199 non-null  object        \n",
      " 22  RainTomorrow   142193 non-null  object        \n",
      "dtypes: datetime64[ns](1), float64(16), object(6)\n",
      "memory usage: 25.5+ MB\n"
     ]
    }
   ],
   "source": [
    "weather.info()"
   ]
  },
  {
   "cell_type": "markdown",
   "metadata": {},
   "source": [
    "Dapat dilihat sekarang kolom `Date` sudah bertipe data **datetime64[ns]**."
   ]
  },
  {
   "cell_type": "markdown",
   "metadata": {},
   "source": [
    "## Exploratory Data Analysis (EDA)"
   ]
  },
  {
   "cell_type": "markdown",
   "metadata": {},
   "source": [
    "### RainTomorrow (Target Column)"
   ]
  },
  {
   "cell_type": "code",
   "execution_count": 13,
   "metadata": {},
   "outputs": [
    {
     "name": "stdout",
     "output_type": "stream",
     "text": [
      "Number of unique values in RainTomorrow column: 2\n",
      "Unique values in RainTomorrow column: ['No' 'Yes' nan]\n"
     ]
    }
   ],
   "source": [
    "print(f'Number of unique values in RainTomorrow column: {weather.RainTomorrow.nunique()}')\n",
    "print(f'Unique values in RainTomorrow column: {weather.RainTomorrow.unique()}')"
   ]
  },
  {
   "cell_type": "code",
   "execution_count": 58,
   "metadata": {},
   "outputs": [
    {
     "data": {
      "image/png": "[encoded data removed]",
      "text/plain": [
       "<Figure size 720x432 with 1 Axes>"
      ]
     },
     "metadata": {},
     "output_type": "display_data"
    }
   ],
   "source": [
    "plt.figure(figsize=(10, 6))\n",
    "plt.pie(weather.groupby('RainTomorrow').size(), labels=weather.groupby('RainTomorrow').size().index, autopct='%1.1f%%')\n",
    "plt.title('RainTomorrow Percentages')\n",
    "plt.show()"
   ]
  },
  {
   "cell_type": "markdown",
   "metadata": {},
   "source": [
    "Kolom `RainTommorow` memiliki 2 unique value dengan 77.6% nya adalah **No** yang berjumlah **110316** dan 22.4% nya adalah **Yes** yang berjumlah **31877**."
   ]
  },
  {
   "cell_type": "markdown",
   "metadata": {},
   "source": [
    "### Date"
   ]
  },
  {
   "cell_type": "code",
   "execution_count": 16,
   "metadata": {},
   "outputs": [
    {
     "name": "stdout",
     "output_type": "stream",
     "text": [
      "Earliest date: November 01, 2007\n",
      "Latest date: June 25, 2017\n"
     ]
    }
   ],
   "source": [
    "print(f'Earliest date: {weather.Date.min().strftime(\"%B %d, %Y\")}')\n",
    "print(f'Latest date: {weather.Date.max().strftime(\"%B %d, %Y\")}')"
   ]
  },
  {
   "cell_type": "markdown",
   "metadata": {},
   "source": [
    "Dataset ini mencatat data cuaca selama 10 tahun dari **1 November 2017** sampai **25 Juni 2017**."
   ]
  },
  {
   "cell_type": "code",
   "execution_count": 17,
   "metadata": {},
   "outputs": [
    {
     "data": {
      "image/png": "[encoded data removed]",
      "text/plain": [
       "<Figure size 1800x432 with 3 Axes>"
      ]
     },
     "metadata": {
      "needs_background": "light"
     },
     "output_type": "display_data"
    }
   ],
   "source": [
    "plt.figure(figsize=(25, 6))\n",
    "plt.subplot(1, 3, 1)\n",
    "sns.countplot(x=weather.Date.dt.dayofweek, data=weather, palette='Set1', hue='RainTomorrow')\n",
    "plt.title('Count of RainTomorrow by Day of Week')\n",
    "plt.xlabel('Day of Week')\n",
    "plt.xticks(np.arange(0, 7), ['Monday', 'Tuesday', 'Wednesday', 'Thursday', 'Friday', 'Saturday', 'Sunday'])\n",
    "plt.ylabel('Count')\n",
    "plt.subplot(1, 3, 2)\n",
    "sns.countplot(x=weather.Date.dt.month, data=weather, palette='Set1', hue='RainTomorrow')\n",
    "plt.title('Count of RainTomorrow by Month')\n",
    "plt.xlabel('Month')\n",
    "plt.xticks(np.arange(0, 12), ['January', 'February', 'March', 'April', 'May', 'June', 'July', 'August', 'September', 'October', 'November', 'December'], rotation=45)\n",
    "plt.ylabel('Count')\n",
    "plt.subplot(1, 3, 3)\n",
    "sns.countplot(x=weather.Date.dt.year, data=weather, palette='Set1', hue='RainTomorrow')\n",
    "plt.title('Count of RainTomorrow by Year')\n",
    "plt.xlabel('Year')\n",
    "plt.ylabel('Count')\n",
    "plt.show()"
   ]
  },
  {
   "cell_type": "markdown",
   "metadata": {},
   "source": [
    "Jika dilihat dari count plot diatas, stasiun cuaca lebih banyak mempredisi akan hujan pada bulan Mei hingga July mungkin hal ini disebabkan karena pada bulan-bulan tersebut di Australia sedang terjadi perpindahan **musim gugur ke musim dingin**. "
   ]
  },
  {
   "cell_type": "markdown",
   "metadata": {},
   "source": [
    "### Location"
   ]
  },
  {
   "cell_type": "code",
   "execution_count": 15,
   "metadata": {},
   "outputs": [
    {
     "name": "stdout",
     "output_type": "stream",
     "text": [
      "Number of unique values in Location column: 49\n",
      "Unique values in Location column: \n",
      "['Albury' 'BadgerysCreek' 'Cobar' 'CoffsHarbour' 'Moree' 'Newcastle'\n",
      " 'NorahHead' 'NorfolkIsland' 'Penrith' 'Richmond' 'Sydney' 'SydneyAirport'\n",
      " 'WaggaWagga' 'Williamtown' 'Wollongong' 'Canberra' 'Tuggeranong'\n",
      " 'MountGinini' 'Ballarat' 'Bendigo' 'Sale' 'MelbourneAirport' 'Melbourne'\n",
      " 'Mildura' 'Nhil' 'Portland' 'Watsonia' 'Dartmoor' 'Brisbane' 'Cairns'\n",
      " 'GoldCoast' 'Townsville' 'Adelaide' 'MountGambier' 'Nuriootpa' 'Woomera'\n",
      " 'Albany' 'Witchcliffe' 'PearceRAAF' 'PerthAirport' 'Perth' 'SalmonGums'\n",
      " 'Walpole' 'Hobart' 'Launceston' 'AliceSprings' 'Darwin' 'Katherine'\n",
      " 'Uluru']\n"
     ]
    }
   ],
   "source": [
    "print(f'Number of unique values in Location column: {weather.Location.nunique()}')\n",
    "print(f'Unique values in Location column: \\n{weather.Location.unique()}')"
   ]
  },
  {
   "cell_type": "markdown",
   "metadata": {},
   "source": [
    "Dataset ini mencatat cuaca dari **49 kota** yang berada di Australia."
   ]
  },
  {
   "cell_type": "markdown",
   "metadata": {},
   "source": [
    "### MinTemp & MaxTemp"
   ]
  },
  {
   "cell_type": "code",
   "execution_count": 27,
   "metadata": {},
   "outputs": [
    {
     "data": {
      "image/png": "[encoded data removed]",
      "text/plain": [
       "<Figure size 1440x432 with 2 Axes>"
      ]
     },
     "metadata": {
      "needs_background": "light"
     },
     "output_type": "display_data"
    },
    {
     "name": "stdout",
     "output_type": "stream",
     "text": [
      "Skewness: 0.021188284011150468\n",
      "Mean: 12.19403438096892\n",
      "Median: 12.0\n"
     ]
    }
   ],
   "source": [
    "plt.figure(figsize=(20, 6))\n",
    "plt.subplot(1, 2, 1)\n",
    "sns.histplot(x='MinTemp', data=weather, kde=True)\n",
    "plt.axvline(weather.MinTemp.mean(), color='red', linestyle='--', label='Mean')\n",
    "plt.axvline(weather.MinTemp.median(), color='green', linestyle='--', label='Median')\n",
    "plt.title('MinTemp Distribution')\n",
    "plt.xlabel('MinTemp')\n",
    "plt.ylabel('Count')\n",
    "plt.legend()\n",
    "plt.subplot(1, 2, 2)\n",
    "sns.boxplot(x='MinTemp', data=weather)\n",
    "plt.title('MinTemp Distribution')\n",
    "plt.xlabel('MinTemp')\n",
    "plt.ylabel('Count')\n",
    "plt.show()\n",
    "print(f'Skewness: {weather.MinTemp.skew()}')\n",
    "print(f'Mean: {weather.MinTemp.mean()}')\n",
    "print(f'Median: {weather.MinTemp.median()}')"
   ]
  },
  {
   "cell_type": "code",
   "execution_count": 29,
   "metadata": {},
   "outputs": [
    {
     "data": {
      "image/png": "[encoded data removed]",
      "text/plain": [
       "<Figure size 1440x432 with 2 Axes>"
      ]
     },
     "metadata": {
      "needs_background": "light"
     },
     "output_type": "display_data"
    },
    {
     "name": "stdout",
     "output_type": "stream",
     "text": [
      "Skewness: 0.22083934813407782\n",
      "Mean: 23.22134827564685\n",
      "Median: 22.6\n"
     ]
    }
   ],
   "source": [
    "plt.figure(figsize=(20, 6))\n",
    "plt.subplot(1, 2, 1)\n",
    "sns.histplot(x='MaxTemp', data=weather, kde=True)\n",
    "plt.axvline(weather.MaxTemp.mean(), color='red', linestyle='--', label='Mean')\n",
    "plt.axvline(weather.MaxTemp.median(), color='green', linestyle='--', label='Median')\n",
    "plt.title('MaxTemp Distribution')\n",
    "plt.xlabel('MaxTemp')\n",
    "plt.ylabel('Count')\n",
    "plt.legend()\n",
    "plt.subplot(1, 2, 2)\n",
    "sns.boxplot(x='MaxTemp', data=weather)\n",
    "plt.title('MaxTemp Distribution')\n",
    "plt.xlabel('MaxTemp')\n",
    "plt.ylabel('Count')\n",
    "plt.show()\n",
    "print(f'Skewness: {weather.MaxTemp.skew()}')\n",
    "print(f'Mean: {weather.MaxTemp.mean()}')\n",
    "print(f'Median: {weather.MaxTemp.median()}')"
   ]
  },
  {
   "cell_type": "markdown",
   "metadata": {},
   "source": [
    "Kolom `MinTemp` dan `MaxTemp` memiliki **distribusi normal** (symmetric) karena nilai skewness kedua kolom ini berada di antara -0.5 dan 0.5."
   ]
  },
  {
   "cell_type": "code",
   "execution_count": 39,
   "metadata": {},
   "outputs": [
    {
     "name": "stdout",
     "output_type": "stream",
     "text": [
      "Coldest temperature is -8.5°C on June 11, 2009\n",
      "Hottest temperature is 48.1°C on January 25, 2011\n"
     ]
    }
   ],
   "source": [
    "print(f'Coldest temperature is {weather.MinTemp.min()}°C on {weather[weather.MinTemp == weather.MinTemp.min()].Date.dt.strftime(\"%B %d, %Y\").to_string(index=False)}')\n",
    "print(f'Hottest temperature is {weather.MaxTemp.max()}°C on {weather[weather.MaxTemp == weather.MaxTemp.max()].Date.dt.strftime(\"%B %d, %Y\").to_string(index=False)}')"
   ]
  },
  {
   "cell_type": "markdown",
   "metadata": {},
   "source": [
    "Di Australia, suhu terendah yang tercatat adalah **-8.5°C** pada 11 Juni 2009 yang mana pada bulan tersebut sedang berada pada musim dingin dan suhu tertinggi berada pada musim panas di 25 January 2011 yaitu **48.1°C**."
   ]
  },
  {
   "cell_type": "markdown",
   "metadata": {},
   "source": [
    "### RainToday"
   ]
  },
  {
   "cell_type": "code",
   "execution_count": 79,
   "metadata": {},
   "outputs": [
    {
     "data": {
      "image/png": "[encoded data removed]",
      "text/plain": [
       "<Figure size 1800x432 with 3 Axes>"
      ]
     },
     "metadata": {
      "needs_background": "light"
     },
     "output_type": "display_data"
    }
   ],
   "source": [
    "plt.figure(figsize=(25, 6))\n",
    "plt.subplot(1, 3, 1)\n",
    "sns.countplot(x='RainToday', data=weather, hue='RainTomorrow')\n",
    "plt.title('Count of RainTomorrow by RainToday')\n",
    "plt.xlabel('RainToday')\n",
    "plt.ylabel('Count')\n",
    "plt.subplot(1, 3, 2)\n",
    "plt.pie(weather[weather.RainToday == 'No'].RainTomorrow.value_counts(), labels=weather[weather.RainToday == 'No'].RainTomorrow.value_counts().index, autopct='%1.1f%%')\n",
    "plt.title('RainTomorrow Percentages When RainToday is No')\n",
    "plt.subplot(1, 3, 3)\n",
    "plt.pie(weather[weather.RainToday == 'Yes'].RainTomorrow.value_counts(), labels=weather[weather.RainToday == 'Yes'].RainTomorrow.value_counts().index, autopct='%1.1f%%')\n",
    "plt.title('RainTomorrow Percentages When RainToday is Yes')\n",
    "plt.show()"
   ]
  },
  {
   "cell_type": "markdown",
   "metadata": {},
   "source": [
    "Dapat diketahui dari plot diatas, jika tidak terjadi hujan pada hari ini maka **sangat jarang** stasiun cuaca memprediksi akan terjadi hujan pada esok harinya hanya sekitar **15.2%** saja, sedangkan jika terjadi hujan pada hari ini stasiun cuaca **sering** memprediksi bahwa esok harinya akan hujan sekitar **46%**."
   ]
  }
 ],
 "metadata": {
  "interpreter": {
   "hash": "112f40161e87cdf99d798de2b86adf76c0b833717b9d65fa1f256b9c887e27bf"
  },
  "kernelspec": {
   "display_name": "Python 3.9.1 64-bit",
   "language": "python",
   "name": "python3"
  },
  "language_info": {
   "codemirror_mode": {
    "name": "ipython",
    "version": 3
   },
   "file_extension": ".py",
   "mimetype": "text/x-python",
   "name": "python",
   "nbconvert_exporter": "python",
   "pygments_lexer": "ipython3",
   "version": "3.9.1"
  },
  "orig_nbformat": 4
 },
 "nbformat": 4,
 "nbformat_minor": 2
}
